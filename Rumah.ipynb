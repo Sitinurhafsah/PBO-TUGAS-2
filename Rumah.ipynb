{
  "nbformat": 4,
  "nbformat_minor": 0,
  "metadata": {
    "colab": {
      "provenance": [],
      "authorship_tag": "ABX9TyMKJExD/I8tZkRede2VEw0s",
      "include_colab_link": true
    },
    "kernelspec": {
      "name": "python3",
      "display_name": "Python 3"
    },
    "language_info": {
      "name": "python"
    }
  },
  "cells": [
    {
      "cell_type": "markdown",
      "metadata": {
        "id": "view-in-github",
        "colab_type": "text"
      },
      "source": [
        "<a href=\"https://colab.research.google.com/github/Sitinurhafsah/PBO-TUGAS-2/blob/main/Rumah.ipynb\" target=\"_parent\"><img src=\"https://colab.research.google.com/assets/colab-badge.svg\" alt=\"Open In Colab\"/></a>"
      ]
    },
    {
      "cell_type": "code",
      "source": [
        "# Membuat kelas Rumah\n",
        "class Rumah:\n",
        "    def __init__(self, tipe, luas):\n",
        "        # Atribut tipe rumah dan luas rumah\n",
        "        self.tipe = tipe\n",
        "        self.luas = luas\n",
        "\n",
        "    # Method untuk menampilkan informasi rumah\n",
        "    def tampilkan_info(self):\n",
        "        print(f\"Rumah tipe {self.tipe} dengan luas {self.luas} m².\")\n",
        "\n",
        "# Fungsi utama untuk menjalankan program\n",
        "def main():\n",
        "    # Membuat objek rumah\n",
        "    villa = Rumah(\"Mewah\", 200)\n",
        "    villa.tampilkan_info()\n",
        "\n",
        "# Menjalankan program\n",
        "if __name__ == \"__main__\":\n",
        "    main()\n"
      ],
      "metadata": {
        "colab": {
          "base_uri": "https://localhost:8080/"
        },
        "id": "clVrk9da7FdD",
        "outputId": "71834794-1d4c-4940-e90b-683af41f2496"
      },
      "execution_count": 8,
      "outputs": [
        {
          "output_type": "stream",
          "name": "stdout",
          "text": [
            "Rumah tipe Mewah dengan luas 200 m².\n"
          ]
        }
      ]
    }
  ]
}