{
  "nbformat": 4,
  "nbformat_minor": 0,
  "metadata": {
    "colab": {
      "provenance": [],
      "authorship_tag": "ABX9TyP3R/HrV7eT+Ju7ILi8/SgF",
      "include_colab_link": true
    },
    "kernelspec": {
      "name": "python3",
      "display_name": "Python 3"
    },
    "language_info": {
      "name": "python"
    }
  },
  "cells": [
    {
      "cell_type": "markdown",
      "metadata": {
        "id": "view-in-github",
        "colab_type": "text"
      },
      "source": [
        "<a href=\"https://colab.research.google.com/github/Sitinurhafsah/PBO-TUGAS-2/blob/main/Musik.ipynb\" target=\"_parent\"><img src=\"https://colab.research.google.com/assets/colab-badge.svg\" alt=\"Open In Colab\"/></a>"
      ]
    },
    {
      "cell_type": "code",
      "source": [
        "# Membuat kelas Musik\n",
        "class Musik:\n",
        "    def __init__(self, judul, artis):\n",
        "        # Atribut judul lagu dan artis\n",
        "        self.judul = judul\n",
        "        self.artis = artis\n",
        "\n",
        "    # Method untuk menampilkan informasi lagu\n",
        "    def putar(self):\n",
        "        print(f\"Lagu '{self.judul}' oleh {self.artis} sedang diputar.\")\n",
        "\n",
        "# Fungsi utama untuk menjalankan program\n",
        "def main():\n",
        "    # Membuat objek musik\n",
        "    lagu = Musik(\"Shape of You\", \"Ed Sheeran\")\n",
        "    lagu.putar()\n",
        "\n",
        "# Menjalankan program\n",
        "if __name__ == \"__main__\":\n",
        "    main()\n"
      ],
      "metadata": {
        "colab": {
          "base_uri": "https://localhost:8080/"
        },
        "id": "U9tPQ-6H6DKb",
        "outputId": "06d379b3-fe43-485f-eaec-d5476fbd99fa"
      },
      "execution_count": 6,
      "outputs": [
        {
          "output_type": "stream",
          "name": "stdout",
          "text": [
            "Lagu 'Shape of You' oleh Ed Sheeran sedang diputar.\n"
          ]
        }
      ]
    }
  ]
}