{
  "nbformat": 4,
  "nbformat_minor": 0,
  "metadata": {
    "colab": {
      "provenance": [],
      "authorship_tag": "ABX9TyO1/he2HMiUpZ6KYKB8UUPF",
      "include_colab_link": true
    },
    "kernelspec": {
      "name": "python3",
      "display_name": "Python 3"
    },
    "language_info": {
      "name": "python"
    }
  },
  "cells": [
    {
      "cell_type": "markdown",
      "metadata": {
        "id": "view-in-github",
        "colab_type": "text"
      },
      "source": [
        "<a href=\"https://colab.research.google.com/github/Sitinurhafsah/PBO-TUGAS-2/blob/main/Lingkaran.ipynb\" target=\"_parent\"><img src=\"https://colab.research.google.com/assets/colab-badge.svg\" alt=\"Open In Colab\"/></a>"
      ]
    },
    {
      "cell_type": "code",
      "source": [
        "# Mengimpor modul matematika untuk perhitungan\n",
        "import math\n",
        "\n",
        "# Membuat kelas Lingkaran\n",
        "class Lingkaran:\n",
        "    def __init__(self, jari_jari):\n",
        "        # Atribut jari-jari\n",
        "        self.jari_jari = jari_jari\n",
        "\n",
        "    # Method untuk menghitung dan menampilkan luas lingkaran\n",
        "    def buat_lingkaran(self):\n",
        "        luas = math.pi * self.jari_jari ** 2\n",
        "        print(f\"Lingkaran dengan jari-jari {self.jari_jari} cm memiliki luas {luas:.2f} cm².\")\n",
        "\n",
        "# Fungsi utama untuk menjalankan program\n",
        "def main():\n",
        "    # Membuat objek lingkaran dengan jari-jari 10 cm\n",
        "    blt = Lingkaran(10)\n",
        "    blt.buat_lingkaran()\n",
        "\n",
        "# Menjalankan program\n",
        "if __name__ == \"__main__\":\n",
        "    main()\n"
      ],
      "metadata": {
        "colab": {
          "base_uri": "https://localhost:8080/"
        },
        "id": "EFr3aGkT44iZ",
        "outputId": "dc0efbaa-8ac2-4fea-8b23-7550015a775e"
      },
      "execution_count": 4,
      "outputs": [
        {
          "output_type": "stream",
          "name": "stdout",
          "text": [
            "Lingkaran dengan jari-jari 10 cm memiliki luas 314.16 cm².\n"
          ]
        }
      ]
    }
  ]
}