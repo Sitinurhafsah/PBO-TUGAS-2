{
  "nbformat": 4,
  "nbformat_minor": 0,
  "metadata": {
    "colab": {
      "provenance": [],
      "authorship_tag": "ABX9TyPOChqmrY6frc341We/A2q7",
      "include_colab_link": true
    },
    "kernelspec": {
      "name": "python3",
      "display_name": "Python 3"
    },
    "language_info": {
      "name": "python"
    }
  },
  "cells": [
    {
      "cell_type": "markdown",
      "metadata": {
        "id": "view-in-github",
        "colab_type": "text"
      },
      "source": [
        "<a href=\"https://colab.research.google.com/github/Sitinurhafsah/PBO-TUGAS-2/blob/main/Hewan.ipynb\" target=\"_parent\"><img src=\"https://colab.research.google.com/assets/colab-badge.svg\" alt=\"Open In Colab\"/></a>"
      ]
    },
    {
      "cell_type": "code",
      "source": [
        "# Membuat kelas Hewan\n",
        "class Hewan:\n",
        "    def __init__(self, jenis, suara):\n",
        "        # Atribut jenis hewan dan suara\n",
        "        self.jenis = jenis\n",
        "        self.suara = suara\n",
        "\n",
        "    # Method untuk menampilkan suara hewan\n",
        "    def bersuara(self):\n",
        "        print(f\"Hewan {self.jenis} berbunyi '{self.suara}'.\")\n",
        "\n",
        "# Fungsi utama untuk menjalankan program\n",
        "def main():\n",
        "    # Membuat objek kucing\n",
        "    kucing = Hewan(\"Kucing\", \"Meong\")\n",
        "    kucing.bersuara()\n",
        "\n",
        "# Menjalankan program\n",
        "if __name__ == \"__main__\":\n",
        "    main()\n"
      ],
      "metadata": {
        "colab": {
          "base_uri": "https://localhost:8080/"
        },
        "id": "gfGwi_JV6sfZ",
        "outputId": "013e851f-c239-46be-ef61-6f03aa105ca6"
      },
      "execution_count": 7,
      "outputs": [
        {
          "output_type": "stream",
          "name": "stdout",
          "text": [
            "Hewan Kucing berbunyi 'Meong'.\n"
          ]
        }
      ]
    }
  ]
}